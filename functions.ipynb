{
 "cells": [
  {
   "cell_type": "code",
   "execution_count": 15,
   "metadata": {},
   "outputs": [],
   "source": [
    "from langchain_community.tools import DuckDuckGoSearchRun\n",
    "from langchain_community.tools import DuckDuckGoSearchResults\n",
    "from langchain_community.utilities import DuckDuckGoSearchAPIWrapper\n",
    "from pprint import pprint\n",
    "import re\n",
    "import requests\n",
    "from bs4 import BeautifulSoup\n",
    "from langchain.tools import tool\n",
    "\n",
    "wrapper = DuckDuckGoSearchAPIWrapper(region=\"wt-wt\", max_results=5)\n",
    "search = DuckDuckGoSearchResults(api_wrapper=wrapper, source=\"news\")"
   ]
  },
  {
   "cell_type": "code",
   "execution_count": 16,
   "metadata": {},
   "outputs": [],
   "source": [
    "results = search.run(\"querter1 2024 economic news\")"
   ]
  },
  {
   "cell_type": "code",
   "execution_count": 17,
   "metadata": {},
   "outputs": [
    {
     "name": "stdout",
     "output_type": "stream",
     "text": [
      "'https://www.cnbc.com/2024/04/25/gdp-q1-2024-increased-at-a-1point6percent-rate.html'\n"
     ]
    }
   ],
   "source": [
    "url_pattern = re.compile(r'http[^]]+')  # Extract everything between http and ]\n",
    "urls = url_pattern.findall(results)\n",
    "\n",
    "pprint(urls[1])"
   ]
  },
  {
   "cell_type": "code",
   "execution_count": 24,
   "metadata": {},
   "outputs": [],
   "source": [
    "def duckduckgo(\n",
    "    search_query: str=None\n",
    "):\n",
    "    wrapper = DuckDuckGoSearchAPIWrapper(region=\"wt-wt\", max_results=15)\n",
    "    search = DuckDuckGoSearchResults(api_wrapper=wrapper)\n",
    "    results = search.run(search_query)\n",
    "    url_pattern = re.compile(r'http[^]]+')\n",
    "    urls = url_pattern.findall(results)\n",
    "    return urls, results\n",
    "\n",
    "url_results, results = duckduckgo(\"2024 economic news\")"
   ]
  },
  {
   "cell_type": "code",
   "execution_count": 25,
   "metadata": {},
   "outputs": [
    {
     "name": "stdout",
     "output_type": "stream",
     "text": [
      "('[snippet: But 80% of world population will experience slower growth than in '\n",
      " 'pre-COVID decade. WASHINGTON, June 11, 2024— The global economy is expected '\n",
      " 'to stabilize for the first time in three years in 2024—but at a level that '\n",
      " \"is weak by recent historical standards, according to the World Bank's latest \"\n",
      " 'Global Economic Prospects report.. Global growth is projected to hold steady '\n",
      " 'at 2.6% in 2024 ..., title: Global Growth Is Stabilizing for the First Time '\n",
      " 'in Three Years, link: '\n",
      " 'https://www.worldbank.org/en/news/press-release/2024/06/11/global-economic-prospects-june-2024-press-release], '\n",
      " '[snippet: The May 2024 Chief Economists Outlook explores key trends in the '\n",
      " 'global economy, including the latest outlook for growth, inflation, monetary '\n",
      " 'and fiscal policy, and the implications of recent geopolitical and domestic '\n",
      " 'political developments. This series of reports draws on the individual and '\n",
      " 'collective perspectives of a group of leading chief economists through '\n",
      " 'consultations with the World ..., title: Chief Economists Outlook: May 2024 '\n",
      " '| World Economic Forum, link: '\n",
      " 'https://www.weforum.org/publications/chief-economists-outlook-may-2024/], '\n",
      " '[snippet: The IMF upgraded Tuesday its forecast for US economic growth to '\n",
      " '2.7% this year — 0.6 percentage points higher than it predicted as recently '\n",
      " 'as January . The move highlights how the United States ..., title: US '\n",
      " 'economy: IMF raises growth forecast and urges caution on rate ... - CNN, '\n",
      " 'link: '\n",
      " 'https://www.cnn.com/2024/04/16/economy/imf-us-economy-growth-inflation-warning/index.html], '\n",
      " \"[snippet: NABE expects the nation's unemployment rate, now hovering near a \"\n",
      " \"50-year low of 3.7%, to peak at 4% in 2024. In a statement on NABE's \"\n",
      " 'forecast, White House economic adviser Lael Brainard ..., title: Economists '\n",
      " \"see brighter outlook for 2024. Here's why. - CBS News, link: \"\n",
      " 'https://www.cbsnews.com/news/inflation-economists-brighter-outlook-federal-reserve/]')\n"
     ]
    }
   ],
   "source": [
    "pprint(results)"
   ]
  },
  {
   "cell_type": "code",
   "execution_count": 26,
   "metadata": {},
   "outputs": [
    {
     "name": "stdout",
     "output_type": "stream",
     "text": [
      "https://www.worldbank.org/en/news/press-release/2024/06/11/global-economic-prospects-june-2024-press-release\n",
      "https://www.weforum.org/publications/chief-economists-outlook-may-2024/\n",
      "https://www.cnn.com/2024/04/16/economy/imf-us-economy-growth-inflation-warning/index.html\n",
      "https://www.cbsnews.com/news/inflation-economists-brighter-outlook-federal-reserve/\n"
     ]
    }
   ],
   "source": [
    "for url in url_results:\n",
    "    print(url)"
   ]
  },
  {
   "cell_type": "code",
   "execution_count": 27,
   "metadata": {},
   "outputs": [
    {
     "name": "stdout",
     "output_type": "stream",
     "text": [
      "Article with specified ID not found on https://www.worldbank.org/en/news/press-release/2024/06/11/global-economic-prospects-june-2024-press-release\n",
      "Failed to retrieve https://www.weforum.org/publications/chief-economists-outlook-may-2024/\n",
      "Article with specified ID not found on https://www.cnn.com/2024/04/16/economy/imf-us-economy-growth-inflation-warning/index.html\n",
      "Article with specified ID not found on https://www.cbsnews.com/news/inflation-economists-brighter-outlook-federal-reserve/\n"
     ]
    }
   ],
   "source": [
    "headers = {\n",
    "    'User-Agent': 'Mozilla/5.0 (Windows NT 10.0; Win64; x64) AppleWebKit/537.36 (KHTML, like Gecko) Chrome/58.0.3029.110 Safari/537.3'\n",
    "}\n",
    "\n",
    "scraped_content = \"\"  # Initialize empty string to store all content\n",
    "\n",
    "for url in url_results:\n",
    "    response = requests.get(url, headers=headers)\n",
    "\n",
    "    if response.status_code == 200:\n",
    "        soup = BeautifulSoup(response.text, 'html.parser')\n",
    "        article = soup.find(id='insertArticle')  # Assuming consistent article structure\n",
    "\n",
    "        if article:\n",
    "            text = article.get_text(separator=' ', strip=True)\n",
    "            scraped_content += text + \"\\n\\n\"  # Add newline between articles\n",
    "        else:\n",
    "            print(f\"Article with specified ID not found on {url}\")\n",
    "    else:\n",
    "        print(f\"Failed to retrieve {url}\")"
   ]
  },
  {
   "cell_type": "code",
   "execution_count": null,
   "metadata": {},
   "outputs": [],
   "source": []
  }
 ],
 "metadata": {
  "kernelspec": {
   "display_name": "llamaindex_rag",
   "language": "python",
   "name": "python3"
  },
  "language_info": {
   "codemirror_mode": {
    "name": "ipython",
    "version": 3
   },
   "file_extension": ".py",
   "mimetype": "text/x-python",
   "name": "python",
   "nbconvert_exporter": "python",
   "pygments_lexer": "ipython3",
   "version": "3.10.12"
  }
 },
 "nbformat": 4,
 "nbformat_minor": 2
}
